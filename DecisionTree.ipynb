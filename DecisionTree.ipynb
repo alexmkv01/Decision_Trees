{
 "cells": [
  {
   "cell_type": "code",
   "execution_count": 1,
   "metadata": {},
   "outputs": [],
   "source": [
    "import numpy as np\n",
    "import matplotlib.pyplot as plt"
   ]
  },
  {
   "cell_type": "markdown",
   "metadata": {},
   "source": [
    "# Step 1: Loading Data #"
   ]
  },
  {
   "cell_type": "code",
   "execution_count": 46,
   "metadata": {},
   "outputs": [
    {
     "name": "stdout",
     "output_type": "stream",
     "text": [
      "(2000, 7) (2000,)\n",
      "(2000, 7) (2000,)\n"
     ]
    }
   ],
   "source": [
    "def split_data(data):\n",
    "    \"\"\" This function splits a dataset into instances (x) and labels (y)\n",
    "    \n",
    "    Args: \n",
    "        data (np.ndarray): Data instances in the first 7 columns + data labels (8th column) \n",
    "    \n",
    "    Returns:\n",
    "        tuple: returns tuple of (x, y) each being a numpy array\n",
    "            - x : the data instances with shape (N,7)\n",
    "            - y : the corresponsing labels with shape (N, ) \n",
    "        \n",
    "    \"\"\"\n",
    "    x = data[:,:7]\n",
    "    y = data[:,7:].reshape(data.shape[0], )\n",
    "    return (x, y)\n",
    "\n",
    "# load dataset from local machine \n",
    "clean_data = np.loadtxt(\"wifi_db/clean_dataset.txt\", dtype=float)\n",
    "noisy_data = np.loadtxt(\"wifi_db/noisy_dataset.txt\", dtype=float)\n",
    "\n",
    "clean_x, clean_y  = split_data(clean_data)\n",
    "noisy_x, noisy_y = split_data(noisy_data)\n",
    "\n",
    "# verify the data and labels have the correct shape\n",
    "print(clean_x.shape, clean_y.shape)\n",
    "print(noisy_x.shape, noisy_y.shape)\n"
   ]
  },
  {
   "cell_type": "markdown",
   "metadata": {},
   "source": [
    "# Step 2: Creating Decision Trees #"
   ]
  },
  {
   "cell_type": "code",
   "execution_count": null,
   "metadata": {},
   "outputs": [],
   "source": []
  }
 ],
 "metadata": {
  "kernelspec": {
   "display_name": "Python 3.10.8 64-bit",
   "language": "python",
   "name": "python3"
  },
  "language_info": {
   "codemirror_mode": {
    "name": "ipython",
    "version": 3
   },
   "file_extension": ".py",
   "mimetype": "text/x-python",
   "name": "python",
   "nbconvert_exporter": "python",
   "pygments_lexer": "ipython3",
   "version": "3.10.8"
  },
  "orig_nbformat": 4,
  "vscode": {
   "interpreter": {
    "hash": "7f63d6f62c44d94f690c576dc3992f3821b9c7218e496dca4549366b3f7d71ae"
   }
  }
 },
 "nbformat": 4,
 "nbformat_minor": 2
}
